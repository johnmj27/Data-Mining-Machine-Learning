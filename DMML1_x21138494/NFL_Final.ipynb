{
 "cells": [
  {
   "cell_type": "code",
   "execution_count": 35,
   "metadata": {},
   "outputs": [],
   "source": [
    "#import packages\n",
    "import pandas as pd\n",
    "import numpy as np\n",
    "import seaborn as sns\n",
    "import matplotlib.pyplot as plt\n",
    "\n",
    "from sklearn.feature_selection import RFE\n",
    "from sklearn.linear_model import LogisticRegression\n",
    "from sklearn.naive_bayes import GaussianNB\n",
    "from sklearn.model_selection import train_test_split\n",
    "from sklearn.metrics import roc_auc_score\n",
    "from sklearn.metrics import roc_curve\n",
    "from sklearn.metrics import confusion_matrix, classification_report, accuracy_score\n",
    "from sklearn.ensemble import RandomForestClassifier\n",
    "from sklearn.svm import SVC\n",
    "\n",
    "import matplotlib.pyplot as plt \n",
    "import xgboost as xgb"
   ]
  },
  {
   "cell_type": "code",
   "execution_count": 2,
   "metadata": {},
   "outputs": [],
   "source": [
    "#import datasets\n",
    "df = pd.read_csv(\"./spreadspoke_scores.csv\")\n",
    "teams = pd.read_csv(\"./nfl_teams.csv\")"
   ]
  },
  {
   "cell_type": "code",
   "execution_count": 3,
   "metadata": {},
   "outputs": [
    {
     "data": {
      "text/plain": [
       "(13232, 17)"
      ]
     },
     "execution_count": 3,
     "metadata": {},
     "output_type": "execute_result"
    }
   ],
   "source": [
    "df.shape"
   ]
  },
  {
   "cell_type": "code",
   "execution_count": 4,
   "metadata": {
    "scrolled": false
   },
   "outputs": [
    {
     "data": {
      "text/html": [
       "<div>\n",
       "<style scoped>\n",
       "    .dataframe tbody tr th:only-of-type {\n",
       "        vertical-align: middle;\n",
       "    }\n",
       "\n",
       "    .dataframe tbody tr th {\n",
       "        vertical-align: top;\n",
       "    }\n",
       "\n",
       "    .dataframe thead th {\n",
       "        text-align: right;\n",
       "    }\n",
       "</style>\n",
       "<table border=\"1\" class=\"dataframe\">\n",
       "  <thead>\n",
       "    <tr style=\"text-align: right;\">\n",
       "      <th></th>\n",
       "      <th>schedule_date</th>\n",
       "      <th>schedule_season</th>\n",
       "      <th>schedule_week</th>\n",
       "      <th>schedule_playoff</th>\n",
       "      <th>team_home</th>\n",
       "      <th>score_home</th>\n",
       "      <th>score_away</th>\n",
       "      <th>team_away</th>\n",
       "      <th>team_favorite_id</th>\n",
       "      <th>spread_favorite</th>\n",
       "      <th>over_under_line</th>\n",
       "      <th>stadium</th>\n",
       "      <th>stadium_neutral</th>\n",
       "      <th>weather_temperature</th>\n",
       "      <th>weather_wind_mph</th>\n",
       "      <th>weather_humidity</th>\n",
       "      <th>weather_detail</th>\n",
       "    </tr>\n",
       "  </thead>\n",
       "  <tbody>\n",
       "    <tr>\n",
       "      <th>0</th>\n",
       "      <td>9/2/1966</td>\n",
       "      <td>1966</td>\n",
       "      <td>1</td>\n",
       "      <td>False</td>\n",
       "      <td>Miami Dolphins</td>\n",
       "      <td>14.0</td>\n",
       "      <td>23.0</td>\n",
       "      <td>Oakland Raiders</td>\n",
       "      <td>NaN</td>\n",
       "      <td>NaN</td>\n",
       "      <td>NaN</td>\n",
       "      <td>Orange Bowl</td>\n",
       "      <td>False</td>\n",
       "      <td>83.0</td>\n",
       "      <td>6.0</td>\n",
       "      <td>71.0</td>\n",
       "      <td>NaN</td>\n",
       "    </tr>\n",
       "    <tr>\n",
       "      <th>1</th>\n",
       "      <td>9/3/1966</td>\n",
       "      <td>1966</td>\n",
       "      <td>1</td>\n",
       "      <td>False</td>\n",
       "      <td>Houston Oilers</td>\n",
       "      <td>45.0</td>\n",
       "      <td>7.0</td>\n",
       "      <td>Denver Broncos</td>\n",
       "      <td>NaN</td>\n",
       "      <td>NaN</td>\n",
       "      <td>NaN</td>\n",
       "      <td>Rice Stadium</td>\n",
       "      <td>False</td>\n",
       "      <td>81.0</td>\n",
       "      <td>7.0</td>\n",
       "      <td>70.0</td>\n",
       "      <td>NaN</td>\n",
       "    </tr>\n",
       "    <tr>\n",
       "      <th>2</th>\n",
       "      <td>9/4/1966</td>\n",
       "      <td>1966</td>\n",
       "      <td>1</td>\n",
       "      <td>False</td>\n",
       "      <td>San Diego Chargers</td>\n",
       "      <td>27.0</td>\n",
       "      <td>7.0</td>\n",
       "      <td>Buffalo Bills</td>\n",
       "      <td>NaN</td>\n",
       "      <td>NaN</td>\n",
       "      <td>NaN</td>\n",
       "      <td>Balboa Stadium</td>\n",
       "      <td>False</td>\n",
       "      <td>70.0</td>\n",
       "      <td>7.0</td>\n",
       "      <td>82.0</td>\n",
       "      <td>NaN</td>\n",
       "    </tr>\n",
       "    <tr>\n",
       "      <th>3</th>\n",
       "      <td>9/9/1966</td>\n",
       "      <td>1966</td>\n",
       "      <td>2</td>\n",
       "      <td>False</td>\n",
       "      <td>Miami Dolphins</td>\n",
       "      <td>14.0</td>\n",
       "      <td>19.0</td>\n",
       "      <td>New York Jets</td>\n",
       "      <td>NaN</td>\n",
       "      <td>NaN</td>\n",
       "      <td>NaN</td>\n",
       "      <td>Orange Bowl</td>\n",
       "      <td>False</td>\n",
       "      <td>82.0</td>\n",
       "      <td>11.0</td>\n",
       "      <td>78.0</td>\n",
       "      <td>NaN</td>\n",
       "    </tr>\n",
       "    <tr>\n",
       "      <th>4</th>\n",
       "      <td>9/10/1966</td>\n",
       "      <td>1966</td>\n",
       "      <td>1</td>\n",
       "      <td>False</td>\n",
       "      <td>Green Bay Packers</td>\n",
       "      <td>24.0</td>\n",
       "      <td>3.0</td>\n",
       "      <td>Baltimore Colts</td>\n",
       "      <td>NaN</td>\n",
       "      <td>NaN</td>\n",
       "      <td>NaN</td>\n",
       "      <td>Lambeau Field</td>\n",
       "      <td>False</td>\n",
       "      <td>64.0</td>\n",
       "      <td>8.0</td>\n",
       "      <td>62.0</td>\n",
       "      <td>NaN</td>\n",
       "    </tr>\n",
       "  </tbody>\n",
       "</table>\n",
       "</div>"
      ],
      "text/plain": [
       "  schedule_date  schedule_season schedule_week  schedule_playoff  \\\n",
       "0      9/2/1966             1966             1             False   \n",
       "1      9/3/1966             1966             1             False   \n",
       "2      9/4/1966             1966             1             False   \n",
       "3      9/9/1966             1966             2             False   \n",
       "4     9/10/1966             1966             1             False   \n",
       "\n",
       "            team_home  score_home  score_away        team_away  \\\n",
       "0      Miami Dolphins        14.0        23.0  Oakland Raiders   \n",
       "1      Houston Oilers        45.0         7.0   Denver Broncos   \n",
       "2  San Diego Chargers        27.0         7.0    Buffalo Bills   \n",
       "3      Miami Dolphins        14.0        19.0    New York Jets   \n",
       "4   Green Bay Packers        24.0         3.0  Baltimore Colts   \n",
       "\n",
       "  team_favorite_id  spread_favorite over_under_line         stadium  \\\n",
       "0              NaN              NaN             NaN     Orange Bowl   \n",
       "1              NaN              NaN             NaN    Rice Stadium   \n",
       "2              NaN              NaN             NaN  Balboa Stadium   \n",
       "3              NaN              NaN             NaN     Orange Bowl   \n",
       "4              NaN              NaN             NaN   Lambeau Field   \n",
       "\n",
       "   stadium_neutral  weather_temperature  weather_wind_mph  weather_humidity  \\\n",
       "0            False                 83.0               6.0              71.0   \n",
       "1            False                 81.0               7.0              70.0   \n",
       "2            False                 70.0               7.0              82.0   \n",
       "3            False                 82.0              11.0              78.0   \n",
       "4            False                 64.0               8.0              62.0   \n",
       "\n",
       "  weather_detail  \n",
       "0            NaN  \n",
       "1            NaN  \n",
       "2            NaN  \n",
       "3            NaN  \n",
       "4            NaN  "
      ]
     },
     "execution_count": 4,
     "metadata": {},
     "output_type": "execute_result"
    }
   ],
   "source": [
    "df.head()"
   ]
  },
  {
   "cell_type": "code",
   "execution_count": 5,
   "metadata": {},
   "outputs": [
    {
     "name": "stdout",
     "output_type": "stream",
     "text": [
      "<class 'pandas.core.frame.DataFrame'>\n",
      "RangeIndex: 13232 entries, 0 to 13231\n",
      "Data columns (total 17 columns):\n",
      " #   Column               Non-Null Count  Dtype  \n",
      "---  ------               --------------  -----  \n",
      " 0   schedule_date        13232 non-null  object \n",
      " 1   schedule_season      13232 non-null  int64  \n",
      " 2   schedule_week        13232 non-null  object \n",
      " 3   schedule_playoff     13232 non-null  bool   \n",
      " 4   team_home            13232 non-null  object \n",
      " 5   score_home           13231 non-null  float64\n",
      " 6   score_away           13231 non-null  float64\n",
      " 7   team_away            13232 non-null  object \n",
      " 8   team_favorite_id     10753 non-null  object \n",
      " 9   spread_favorite      10753 non-null  float64\n",
      " 10  over_under_line      10743 non-null  object \n",
      " 11  stadium              13232 non-null  object \n",
      " 12  stadium_neutral      13232 non-null  bool   \n",
      " 13  weather_temperature  12189 non-null  float64\n",
      " 14  weather_wind_mph     12172 non-null  float64\n",
      " 15  weather_humidity     8441 non-null   float64\n",
      " 16  weather_detail       2822 non-null   object \n",
      "dtypes: bool(2), float64(6), int64(1), object(8)\n",
      "memory usage: 1.5+ MB\n"
     ]
    }
   ],
   "source": [
    "df.info()"
   ]
  },
  {
   "cell_type": "code",
   "execution_count": 6,
   "metadata": {},
   "outputs": [
    {
     "data": {
      "text/plain": [
       "array(['1', '2', '3', '4', '5', '6', '7', '8', '9', '10', '11', '12',\n",
       "       '13', '14', '15', '16', 'Conference', 'Superbowl', '17',\n",
       "       'Division', 'Wildcard', '18', 'WildCard', 'SuperBowl'],\n",
       "      dtype=object)"
      ]
     },
     "execution_count": 6,
     "metadata": {},
     "output_type": "execute_result"
    }
   ],
   "source": [
    "df.schedule_week.unique()"
   ]
  },
  {
   "cell_type": "code",
   "execution_count": 7,
   "metadata": {},
   "outputs": [],
   "source": [
    "# # replacing blank strings with NaN\n",
    "df = df.replace(r'^\\s*$', np.nan, regex=True)\n",
    "\n",
    "# # # removing rows from specific columns that have null values, resetting index and changing data types\n",
    "df = df[(df.score_home.isnull() == False) & (df.score_away.isnull() == False) &(df.team_favorite_id.isnull() == False)]\n",
    "\n",
    "df.reset_index(drop=True, inplace=True)\n",
    "\n",
    "# # # mapping team_id to the correct teams\n",
    "df['team_home'] = df.team_home.map(teams.set_index('team_name')['team_id'].to_dict())\n",
    "df['team_away'] = df.team_away.map(teams.set_index('team_name')['team_id'].to_dict())\n",
    "\n",
    "\n",
    "# # creating home favorite and away favorite columns (fill na with 0's)\n",
    "df.loc[df.team_favorite_id == df.team_home, 'home_fav'] = 1\n",
    "df.loc[df.team_favorite_id == df.team_away, 'away_fav'] = 1\n",
    "df.home_fav.fillna(0, inplace=True)\n",
    "df.away_fav.fillna(0, inplace=True)\n",
    "\n",
    "\n",
    "# # stadium neutral and schedule playoff as boolean\n",
    "df['stadium_neutral'] = df.stadium_neutral.astype(int)\n",
    "df['schedule_playoff'] = df.schedule_playoff.astype(int)\n",
    "\n",
    "#coverting named weeks to numerical weeks \n",
    "df.loc[(df.schedule_week == 'Wildcard') | (df.schedule_week == 'WildCard'), 'schedule_week'] = '19'\n",
    "df.loc[(df.schedule_week == 'Division'), 'schedule_week'] = '20'\n",
    "df.loc[(df.schedule_week == 'Conference'), 'schedule_week'] = '21'\n",
    "df.loc[(df.schedule_week == 'Superbowl') | (df.schedule_week == 'SuperBowl'), 'schedule_week'] = '22'\n",
    "df['schedule_week'] = df.schedule_week.astype(int)\n",
    "\n",
    "# # change data type of date columns\n",
    "df['schedule_date'] = pd.to_datetime(df['schedule_date'])"
   ]
  },
  {
   "cell_type": "code",
   "execution_count": 8,
   "metadata": {},
   "outputs": [
    {
     "data": {
      "text/plain": [
       "array([22,  1, 19, 20, 21,  2,  3,  4,  5,  6,  7,  8,  9, 10, 11, 12, 13,\n",
       "       14, 15, 16, 17, 18])"
      ]
     },
     "execution_count": 8,
     "metadata": {},
     "output_type": "execute_result"
    }
   ],
   "source": [
    "df.schedule_week.unique()"
   ]
  },
  {
   "cell_type": "code",
   "execution_count": 9,
   "metadata": {},
   "outputs": [
    {
     "name": "stdout",
     "output_type": "stream",
     "text": [
      "<class 'pandas.core.frame.DataFrame'>\n",
      "RangeIndex: 10752 entries, 0 to 10751\n",
      "Data columns (total 19 columns):\n",
      " #   Column               Non-Null Count  Dtype         \n",
      "---  ------               --------------  -----         \n",
      " 0   schedule_date        10752 non-null  datetime64[ns]\n",
      " 1   schedule_season      10752 non-null  int64         \n",
      " 2   schedule_week        10752 non-null  int32         \n",
      " 3   schedule_playoff     10752 non-null  int32         \n",
      " 4   team_home            10752 non-null  object        \n",
      " 5   score_home           10752 non-null  float64       \n",
      " 6   score_away           10752 non-null  float64       \n",
      " 7   team_away            10752 non-null  object        \n",
      " 8   team_favorite_id     10752 non-null  object        \n",
      " 9   spread_favorite      10752 non-null  float64       \n",
      " 10  over_under_line      10680 non-null  object        \n",
      " 11  stadium              10752 non-null  object        \n",
      " 12  stadium_neutral      10752 non-null  int32         \n",
      " 13  weather_temperature  9939 non-null   float64       \n",
      " 14  weather_wind_mph     9922 non-null   float64       \n",
      " 15  weather_humidity     6352 non-null   float64       \n",
      " 16  weather_detail       2663 non-null   object        \n",
      " 17  home_fav             10752 non-null  float64       \n",
      " 18  away_fav             10752 non-null  float64       \n",
      "dtypes: datetime64[ns](1), float64(8), int32(3), int64(1), object(6)\n",
      "memory usage: 1.4+ MB\n"
     ]
    }
   ],
   "source": [
    "df.info()"
   ]
  },
  {
   "cell_type": "code",
   "execution_count": 10,
   "metadata": {},
   "outputs": [
    {
     "data": {
      "text/plain": [
       "schedule_date             0\n",
       "schedule_season           0\n",
       "schedule_week             0\n",
       "schedule_playoff          0\n",
       "team_home                 0\n",
       "score_home                0\n",
       "score_away                0\n",
       "team_away                 0\n",
       "team_favorite_id          0\n",
       "spread_favorite           0\n",
       "over_under_line          72\n",
       "stadium                   0\n",
       "stadium_neutral           0\n",
       "weather_temperature     813\n",
       "weather_wind_mph        830\n",
       "weather_humidity       4400\n",
       "weather_detail         8089\n",
       "home_fav                  0\n",
       "away_fav                  0\n",
       "dtype: int64"
      ]
     },
     "execution_count": 10,
     "metadata": {},
     "output_type": "execute_result"
    }
   ],
   "source": [
    "#checking for null values\n",
    "df.isnull().sum(axis=0)"
   ]
  },
  {
   "cell_type": "code",
   "execution_count": 11,
   "metadata": {},
   "outputs": [
    {
     "data": {
      "text/plain": [
       "Index(['schedule_date', 'schedule_season', 'schedule_week', 'schedule_playoff',\n",
       "       'team_home', 'score_home', 'score_away', 'team_away',\n",
       "       'team_favorite_id', 'spread_favorite', 'over_under_line', 'stadium',\n",
       "       'stadium_neutral', 'weather_temperature', 'weather_wind_mph',\n",
       "       'weather_humidity', 'weather_detail', 'home_fav', 'away_fav'],\n",
       "      dtype='object')"
      ]
     },
     "execution_count": 11,
     "metadata": {},
     "output_type": "execute_result"
    }
   ],
   "source": [
    "df.columns"
   ]
  },
  {
   "cell_type": "code",
   "execution_count": 12,
   "metadata": {},
   "outputs": [],
   "source": [
    "df = df.drop(columns=['spread_favorite', 'over_under_line','weather_detail', 'weather_humidity'])\n",
    "df = df.drop_duplicates()\n",
    "df = df.dropna(how='any',axis=0) "
   ]
  },
  {
   "cell_type": "code",
   "execution_count": 13,
   "metadata": {},
   "outputs": [
    {
     "data": {
      "text/plain": [
       "schedule_date          0\n",
       "schedule_season        0\n",
       "schedule_week          0\n",
       "schedule_playoff       0\n",
       "team_home              0\n",
       "score_home             0\n",
       "score_away             0\n",
       "team_away              0\n",
       "team_favorite_id       0\n",
       "stadium                0\n",
       "stadium_neutral        0\n",
       "weather_temperature    0\n",
       "weather_wind_mph       0\n",
       "home_fav               0\n",
       "away_fav               0\n",
       "dtype: int64"
      ]
     },
     "execution_count": 13,
     "metadata": {},
     "output_type": "execute_result"
    }
   ],
   "source": [
    "df.isnull().sum(axis=0)"
   ]
  },
  {
   "cell_type": "code",
   "execution_count": 14,
   "metadata": {},
   "outputs": [
    {
     "data": {
      "text/html": [
       "<div>\n",
       "<style scoped>\n",
       "    .dataframe tbody tr th:only-of-type {\n",
       "        vertical-align: middle;\n",
       "    }\n",
       "\n",
       "    .dataframe tbody tr th {\n",
       "        vertical-align: top;\n",
       "    }\n",
       "\n",
       "    .dataframe thead th {\n",
       "        text-align: right;\n",
       "    }\n",
       "</style>\n",
       "<table border=\"1\" class=\"dataframe\">\n",
       "  <thead>\n",
       "    <tr style=\"text-align: right;\">\n",
       "      <th></th>\n",
       "      <th>count</th>\n",
       "      <th>mean</th>\n",
       "      <th>std</th>\n",
       "      <th>min</th>\n",
       "      <th>25%</th>\n",
       "      <th>50%</th>\n",
       "      <th>75%</th>\n",
       "      <th>max</th>\n",
       "    </tr>\n",
       "  </thead>\n",
       "  <tbody>\n",
       "    <tr>\n",
       "      <th>schedule_season</th>\n",
       "      <td>9922.0</td>\n",
       "      <td>2000.031748</td>\n",
       "      <td>11.859206</td>\n",
       "      <td>1966.0</td>\n",
       "      <td>1990.0</td>\n",
       "      <td>2001.0</td>\n",
       "      <td>2010.0</td>\n",
       "      <td>2021.0</td>\n",
       "    </tr>\n",
       "    <tr>\n",
       "      <th>schedule_week</th>\n",
       "      <td>9922.0</td>\n",
       "      <td>9.268897</td>\n",
       "      <td>5.114106</td>\n",
       "      <td>1.0</td>\n",
       "      <td>5.0</td>\n",
       "      <td>9.0</td>\n",
       "      <td>14.0</td>\n",
       "      <td>22.0</td>\n",
       "    </tr>\n",
       "    <tr>\n",
       "      <th>schedule_playoff</th>\n",
       "      <td>9922.0</td>\n",
       "      <td>0.016529</td>\n",
       "      <td>0.127504</td>\n",
       "      <td>0.0</td>\n",
       "      <td>0.0</td>\n",
       "      <td>0.0</td>\n",
       "      <td>0.0</td>\n",
       "      <td>1.0</td>\n",
       "    </tr>\n",
       "    <tr>\n",
       "      <th>score_home</th>\n",
       "      <td>9922.0</td>\n",
       "      <td>22.666801</td>\n",
       "      <td>10.385263</td>\n",
       "      <td>0.0</td>\n",
       "      <td>16.0</td>\n",
       "      <td>22.0</td>\n",
       "      <td>30.0</td>\n",
       "      <td>62.0</td>\n",
       "    </tr>\n",
       "    <tr>\n",
       "      <th>score_away</th>\n",
       "      <td>9922.0</td>\n",
       "      <td>19.978230</td>\n",
       "      <td>10.062587</td>\n",
       "      <td>0.0</td>\n",
       "      <td>13.0</td>\n",
       "      <td>20.0</td>\n",
       "      <td>27.0</td>\n",
       "      <td>59.0</td>\n",
       "    </tr>\n",
       "    <tr>\n",
       "      <th>stadium_neutral</th>\n",
       "      <td>9922.0</td>\n",
       "      <td>0.007660</td>\n",
       "      <td>0.087189</td>\n",
       "      <td>0.0</td>\n",
       "      <td>0.0</td>\n",
       "      <td>0.0</td>\n",
       "      <td>0.0</td>\n",
       "      <td>1.0</td>\n",
       "    </tr>\n",
       "    <tr>\n",
       "      <th>weather_temperature</th>\n",
       "      <td>9922.0</td>\n",
       "      <td>59.939931</td>\n",
       "      <td>15.437079</td>\n",
       "      <td>-6.0</td>\n",
       "      <td>50.0</td>\n",
       "      <td>64.0</td>\n",
       "      <td>72.0</td>\n",
       "      <td>97.0</td>\n",
       "    </tr>\n",
       "    <tr>\n",
       "      <th>weather_wind_mph</th>\n",
       "      <td>9922.0</td>\n",
       "      <td>7.206511</td>\n",
       "      <td>5.751952</td>\n",
       "      <td>0.0</td>\n",
       "      <td>0.0</td>\n",
       "      <td>7.0</td>\n",
       "      <td>11.0</td>\n",
       "      <td>40.0</td>\n",
       "    </tr>\n",
       "    <tr>\n",
       "      <th>home_fav</th>\n",
       "      <td>9922.0</td>\n",
       "      <td>0.663878</td>\n",
       "      <td>0.472405</td>\n",
       "      <td>0.0</td>\n",
       "      <td>0.0</td>\n",
       "      <td>1.0</td>\n",
       "      <td>1.0</td>\n",
       "      <td>1.0</td>\n",
       "    </tr>\n",
       "    <tr>\n",
       "      <th>away_fav</th>\n",
       "      <td>9922.0</td>\n",
       "      <td>0.321810</td>\n",
       "      <td>0.467194</td>\n",
       "      <td>0.0</td>\n",
       "      <td>0.0</td>\n",
       "      <td>0.0</td>\n",
       "      <td>1.0</td>\n",
       "      <td>1.0</td>\n",
       "    </tr>\n",
       "  </tbody>\n",
       "</table>\n",
       "</div>"
      ],
      "text/plain": [
       "                      count         mean        std     min     25%     50%  \\\n",
       "schedule_season      9922.0  2000.031748  11.859206  1966.0  1990.0  2001.0   \n",
       "schedule_week        9922.0     9.268897   5.114106     1.0     5.0     9.0   \n",
       "schedule_playoff     9922.0     0.016529   0.127504     0.0     0.0     0.0   \n",
       "score_home           9922.0    22.666801  10.385263     0.0    16.0    22.0   \n",
       "score_away           9922.0    19.978230  10.062587     0.0    13.0    20.0   \n",
       "stadium_neutral      9922.0     0.007660   0.087189     0.0     0.0     0.0   \n",
       "weather_temperature  9922.0    59.939931  15.437079    -6.0    50.0    64.0   \n",
       "weather_wind_mph     9922.0     7.206511   5.751952     0.0     0.0     7.0   \n",
       "home_fav             9922.0     0.663878   0.472405     0.0     0.0     1.0   \n",
       "away_fav             9922.0     0.321810   0.467194     0.0     0.0     0.0   \n",
       "\n",
       "                        75%     max  \n",
       "schedule_season      2010.0  2021.0  \n",
       "schedule_week          14.0    22.0  \n",
       "schedule_playoff        0.0     1.0  \n",
       "score_home             30.0    62.0  \n",
       "score_away             27.0    59.0  \n",
       "stadium_neutral         0.0     1.0  \n",
       "weather_temperature    72.0    97.0  \n",
       "weather_wind_mph       11.0    40.0  \n",
       "home_fav                1.0     1.0  \n",
       "away_fav                1.0     1.0  "
      ]
     },
     "execution_count": 14,
     "metadata": {},
     "output_type": "execute_result"
    }
   ],
   "source": [
    "df.describe().transpose()"
   ]
  },
  {
   "cell_type": "code",
   "execution_count": 15,
   "metadata": {},
   "outputs": [],
   "source": [
    "#creating binary tagret variable HTW(Home Team Win)\n",
    "df['HTW'] = (df.score_home > df.score_away).astype(int)"
   ]
  },
  {
   "cell_type": "code",
   "execution_count": 16,
   "metadata": {},
   "outputs": [
    {
     "name": "stdout",
     "output_type": "stream",
     "text": [
      "<class 'pandas.core.frame.DataFrame'>\n",
      "Int64Index: 9922 entries, 0 to 10751\n",
      "Data columns (total 16 columns):\n",
      " #   Column               Non-Null Count  Dtype         \n",
      "---  ------               --------------  -----         \n",
      " 0   schedule_date        9922 non-null   datetime64[ns]\n",
      " 1   schedule_season      9922 non-null   int64         \n",
      " 2   schedule_week        9922 non-null   int32         \n",
      " 3   schedule_playoff     9922 non-null   int32         \n",
      " 4   team_home            9922 non-null   object        \n",
      " 5   score_home           9922 non-null   float64       \n",
      " 6   score_away           9922 non-null   float64       \n",
      " 7   team_away            9922 non-null   object        \n",
      " 8   team_favorite_id     9922 non-null   object        \n",
      " 9   stadium              9922 non-null   object        \n",
      " 10  stadium_neutral      9922 non-null   int32         \n",
      " 11  weather_temperature  9922 non-null   float64       \n",
      " 12  weather_wind_mph     9922 non-null   float64       \n",
      " 13  home_fav             9922 non-null   float64       \n",
      " 14  away_fav             9922 non-null   float64       \n",
      " 15  HTW                  9922 non-null   int32         \n",
      "dtypes: datetime64[ns](1), float64(6), int32(4), int64(1), object(4)\n",
      "memory usage: 1.1+ MB\n"
     ]
    }
   ],
   "source": [
    "df.info()"
   ]
  },
  {
   "cell_type": "code",
   "execution_count": 17,
   "metadata": {},
   "outputs": [
    {
     "data": {
      "text/plain": [
       "<AxesSubplot:>"
      ]
     },
     "execution_count": 17,
     "metadata": {},
     "output_type": "execute_result"
    },
    {
     "data": {
      "image/png": "[encoded data removed]",
      "text/plain": [
       "<Figure size 720x720 with 2 Axes>"
      ]
     },
     "metadata": {
      "needs_background": "light"
     },
     "output_type": "display_data"
    }
   ],
   "source": [
    "a,ax = plt.subplots(figsize=(10, 10))\n",
    "sns.heatmap(df.corr(), annot=True, linewidths=.5, fmt= '.1f',ax=ax)"
   ]
  },
  {
   "cell_type": "code",
   "execution_count": 18,
   "metadata": {},
   "outputs": [],
   "source": [
    "df_final = df.drop(columns=['schedule_date','score_home','score_away','stadium','away_fav','team_home','team_away','team_favorite_id'])"
   ]
  },
  {
   "cell_type": "code",
   "execution_count": 19,
   "metadata": {},
   "outputs": [
    {
     "name": "stdout",
     "output_type": "stream",
     "text": [
      "<class 'pandas.core.frame.DataFrame'>\n",
      "Int64Index: 9922 entries, 0 to 10751\n",
      "Data columns (total 8 columns):\n",
      " #   Column               Non-Null Count  Dtype  \n",
      "---  ------               --------------  -----  \n",
      " 0   schedule_season      9922 non-null   int64  \n",
      " 1   schedule_week        9922 non-null   int32  \n",
      " 2   schedule_playoff     9922 non-null   int32  \n",
      " 3   stadium_neutral      9922 non-null   int32  \n",
      " 4   weather_temperature  9922 non-null   float64\n",
      " 5   weather_wind_mph     9922 non-null   float64\n",
      " 6   home_fav             9922 non-null   float64\n",
      " 7   HTW                  9922 non-null   int32  \n",
      "dtypes: float64(3), int32(4), int64(1)\n",
      "memory usage: 542.6 KB\n"
     ]
    }
   ],
   "source": [
    "df_final.info()"
   ]
  },
  {
   "cell_type": "code",
   "execution_count": 20,
   "metadata": {},
   "outputs": [],
   "source": [
    "X = df_final.loc[:, df_final.columns != 'HTW']\n",
    "y = df_final.loc[:, df_final.columns == 'HTW']"
   ]
  },
  {
   "cell_type": "code",
   "execution_count": 21,
   "metadata": {},
   "outputs": [
    {
     "name": "stdout",
     "output_type": "stream",
     "text": [
      "[False False  True  True  True  True  True]\n",
      "[3 2 1 1 1 1 1]\n"
     ]
    },
    {
     "name": "stderr",
     "output_type": "stream",
     "text": [
      "D:\\New folder\\envs\\rstudio-\\lib\\site-packages\\sklearn\\utils\\validation.py:993: DataConversionWarning: A column-vector y was passed when a 1d array was expected. Please change the shape of y to (n_samples, ), for example using ravel().\n",
      "  y = column_or_1d(y, warn=True)\n",
      "D:\\New folder\\envs\\rstudio-\\lib\\site-packages\\sklearn\\utils\\validation.py:993: DataConversionWarning: A column-vector y was passed when a 1d array was expected. Please change the shape of y to (n_samples, ), for example using ravel().\n",
      "  y = column_or_1d(y, warn=True)\n",
      "D:\\New folder\\envs\\rstudio-\\lib\\site-packages\\sklearn\\utils\\validation.py:993: DataConversionWarning: A column-vector y was passed when a 1d array was expected. Please change the shape of y to (n_samples, ), for example using ravel().\n",
      "  y = column_or_1d(y, warn=True)\n"
     ]
    }
   ],
   "source": [
    "#feature selection\n",
    "\n",
    "logreg = LogisticRegression()\n",
    "rfe = RFE(logreg,n_features_to_select=5)\n",
    "rfe = rfe.fit(X, y)\n",
    "print(rfe.support_)\n",
    "print(rfe.ranking_)"
   ]
  },
  {
   "cell_type": "code",
   "execution_count": 22,
   "metadata": {},
   "outputs": [
    {
     "name": "stdout",
     "output_type": "stream",
     "text": [
      "Column: schedule_season, Selected False, Rank: 3.000\n",
      "Column: schedule_week, Selected False, Rank: 2.000\n",
      "Column: schedule_playoff, Selected True, Rank: 1.000\n",
      "Column: stadium_neutral, Selected True, Rank: 1.000\n",
      "Column: weather_temperature, Selected True, Rank: 1.000\n",
      "Column: weather_wind_mph, Selected True, Rank: 1.000\n",
      "Column: home_fav, Selected True, Rank: 1.000\n"
     ]
    }
   ],
   "source": [
    "for i in range(X.shape[1]):\n",
    "    \n",
    "    print('Column: %s, Selected %s, Rank: %.3f' % (X.columns.to_list()[i], rfe.support_[i], rfe.ranking_[i]))"
   ]
  },
  {
   "cell_type": "code",
   "execution_count": 23,
   "metadata": {},
   "outputs": [
    {
     "data": {
      "text/plain": [
       "Index(['schedule_season', 'schedule_week', 'schedule_playoff',\n",
       "       'stadium_neutral', 'weather_temperature', 'weather_wind_mph',\n",
       "       'home_fav'],\n",
       "      dtype='object')"
      ]
     },
     "execution_count": 23,
     "metadata": {},
     "output_type": "execute_result"
    }
   ],
   "source": [
    "X.columns"
   ]
  },
  {
   "cell_type": "code",
   "execution_count": 24,
   "metadata": {},
   "outputs": [],
   "source": [
    "cols = ['schedule_week', 'schedule_playoff',\n",
    "       'stadium_neutral', 'weather_temperature', 'weather_wind_mph',\n",
    "       'home_fav']\n",
    "X = X[cols]"
   ]
  },
  {
   "cell_type": "code",
   "execution_count": 25,
   "metadata": {},
   "outputs": [
    {
     "name": "stderr",
     "output_type": "stream",
     "text": [
      "D:\\New folder\\envs\\rstudio-\\lib\\site-packages\\sklearn\\utils\\validation.py:993: DataConversionWarning: A column-vector y was passed when a 1d array was expected. Please change the shape of y to (n_samples, ), for example using ravel().\n",
      "  y = column_or_1d(y, warn=True)\n"
     ]
    },
    {
     "data": {
      "text/plain": [
       "LogisticRegression()"
      ]
     },
     "execution_count": 25,
     "metadata": {},
     "output_type": "execute_result"
    }
   ],
   "source": [
    "#spliting the dataset into test and train \n",
    "X_train, X_test, y_train, y_test = train_test_split(X, y, test_size=0.2, random_state=0)\n",
    "logreg = LogisticRegression()\n",
    "logreg.fit(X_train, y_train)"
   ]
  },
  {
   "cell_type": "code",
   "execution_count": 26,
   "metadata": {},
   "outputs": [
    {
     "name": "stdout",
     "output_type": "stream",
     "text": [
      "Accuracy of logistic regression classifier on test set: 0.68\n"
     ]
    },
    {
     "data": {
      "text/plain": [
       "0.6785894206549118"
      ]
     },
     "execution_count": 26,
     "metadata": {},
     "output_type": "execute_result"
    }
   ],
   "source": [
    "y_pred = logreg.predict(X_test)\n",
    "print('Accuracy of logistic regression classifier on test set: {:.2f}'.format(logreg.score(X_test,y_test)))\n",
    "accuracy_score(y_test, y_pred)"
   ]
  },
  {
   "cell_type": "code",
   "execution_count": 27,
   "metadata": {},
   "outputs": [
    {
     "name": "stdout",
     "output_type": "stream",
     "text": [
      "[[434 382]\n",
      " [256 913]]\n"
     ]
    }
   ],
   "source": [
    "\n",
    "confusion_matrix = confusion_matrix(y_test, y_pred)\n",
    "print(confusion_matrix)"
   ]
  },
  {
   "cell_type": "code",
   "execution_count": 28,
   "metadata": {},
   "outputs": [
    {
     "name": "stdout",
     "output_type": "stream",
     "text": [
      "              precision    recall  f1-score   support\n",
      "\n",
      "           0       0.63      0.53      0.58       816\n",
      "           1       0.71      0.78      0.74      1169\n",
      "\n",
      "    accuracy                           0.68      1985\n",
      "   macro avg       0.67      0.66      0.66      1985\n",
      "weighted avg       0.67      0.68      0.67      1985\n",
      "\n"
     ]
    }
   ],
   "source": [
    "print(classification_report(y_test, y_pred))"
   ]
  },
  {
   "cell_type": "code",
   "execution_count": 29,
   "metadata": {},
   "outputs": [
    {
     "data": {
      "image/png": "[encoded data removed]",
      "text/plain": [
       "<Figure size 432x288 with 1 Axes>"
      ]
     },
     "metadata": {
      "needs_background": "light"
     },
     "output_type": "display_data"
    }
   ],
   "source": [
    "\n",
    "plt.rc(\"font\", size=14)\n",
    "\n",
    "logit_roc_auc = roc_auc_score(y_test, logreg.predict(X_test))\n",
    "fpr, tpr, thresholds = roc_curve(y_test, logreg.predict_proba(X_test)[:,1])\n",
    "plt.figure()\n",
    "plt.plot(fpr, tpr, label='Logistic Regression (area = %0.2f)' % logit_roc_auc)\n",
    "plt.plot([0, 1], [0, 1],'r--')\n",
    "plt.xlim([0.0, 1.0])\n",
    "plt.ylim([0.0, 1.05])\n",
    "plt.xlabel('False Positive Rate')\n",
    "plt.ylabel('True Positive Rate')\n",
    "plt.title('Receiver operating characteristic')\n",
    "plt.legend(loc=\"lower right\")\n",
    "plt.savefig('Log_ROC')\n",
    "plt.show()"
   ]
  },
  {
   "cell_type": "code",
   "execution_count": 30,
   "metadata": {},
   "outputs": [
    {
     "name": "stderr",
     "output_type": "stream",
     "text": [
      "D:\\New folder\\envs\\rstudio-\\lib\\site-packages\\sklearn\\utils\\validation.py:993: DataConversionWarning: A column-vector y was passed when a 1d array was expected. Please change the shape of y to (n_samples, ), for example using ravel().\n",
      "  y = column_or_1d(y, warn=True)\n"
     ]
    },
    {
     "data": {
      "text/plain": [
       "GaussianNB()"
      ]
     },
     "execution_count": 30,
     "metadata": {},
     "output_type": "execute_result"
    }
   ],
   "source": [
    "gNB = GaussianNB()\n",
    "gNB.fit(X_train, y_train)"
   ]
  },
  {
   "cell_type": "code",
   "execution_count": 31,
   "metadata": {},
   "outputs": [
    {
     "name": "stdout",
     "output_type": "stream",
     "text": [
      "Accuracy of Guassian Navies Base classifier on test set: 0.68\n"
     ]
    }
   ],
   "source": [
    "y_pred_gNB = gNB.predict(X_test)\n",
    "print('Accuracy of Guassian Navies Base classifier on test set: {:.2f}'.format(gNB.score(X_test, y_test)))"
   ]
  },
  {
   "cell_type": "code",
   "execution_count": 36,
   "metadata": {},
   "outputs": [
    {
     "name": "stdout",
     "output_type": "stream",
     "text": [
      "[[433 383]\n",
      " [253 916]]\n"
     ]
    }
   ],
   "source": [
    "confusion_matrix_GNB = confusion_matrix(y_test, y_pred_gNB)\n",
    "print(confusion_matrix_GNB)"
   ]
  },
  {
   "cell_type": "code",
   "execution_count": 33,
   "metadata": {},
   "outputs": [
    {
     "name": "stdout",
     "output_type": "stream",
     "text": [
      "              precision    recall  f1-score   support\n",
      "\n",
      "           0       0.63      0.53      0.58       816\n",
      "           1       0.71      0.78      0.74      1169\n",
      "\n",
      "    accuracy                           0.68      1985\n",
      "   macro avg       0.67      0.66      0.66      1985\n",
      "weighted avg       0.67      0.68      0.67      1985\n",
      "\n"
     ]
    }
   ],
   "source": [
    "print(classification_report(y_test, y_pred_gNB))"
   ]
  },
  {
   "cell_type": "code",
   "execution_count": 34,
   "metadata": {},
   "outputs": [
    {
     "data": {
      "image/png": "[encoded data removed]",
      "text/plain": [
       "<Figure size 432x288 with 1 Axes>"
      ]
     },
     "metadata": {
      "needs_background": "light"
     },
     "output_type": "display_data"
    }
   ],
   "source": [
    "plt.rc(\"font\", size=14)\n",
    "\n",
    "gNB_roc_auc = roc_auc_score(y_test, gNB.predict(X_test))\n",
    "fpr, tpr, thresholds = roc_curve(y_test, gNB.predict_proba(X_test)[:,1])\n",
    "plt.figure()\n",
    "plt.plot(fpr, tpr, label='Guassian Navies Base classiffication (area = %0.2f)' % gNB_roc_auc)\n",
    "plt.plot([0, 1], [0, 1],'r--')\n",
    "plt.xlim([0.0, 1.0])\n",
    "plt.ylim([0.0, 1.05])\n",
    "plt.xlabel('False Positive Rate')\n",
    "plt.ylabel('True Positive Rate')\n",
    "plt.title('Receiver operating characteristic')\n",
    "plt.legend(loc=\"lower right\")\n",
    "plt.savefig('Log_ROC')\n",
    "plt.show()"
   ]
  },
  {
   "cell_type": "code",
   "execution_count": 37,
   "metadata": {},
   "outputs": [
    {
     "data": {
      "text/plain": [
       "XGBClassifier(base_score=0.5, booster='gbtree', callbacks=None,\n",
       "              colsample_bylevel=1, colsample_bynode=1, colsample_bytree=1,\n",
       "              early_stopping_rounds=None, enable_categorical=False,\n",
       "              eval_metric=None, gamma=0, gpu_id=-1, grow_policy='depthwise',\n",
       "              importance_type=None, interaction_constraints='',\n",
       "              learning_rate=0.300000012, max_bin=256, max_cat_to_onehot=4,\n",
       "              max_delta_step=0, max_depth=6, max_leaves=0, min_child_weight=1,\n",
       "              missing=nan, monotone_constraints='()', n_estimators=100,\n",
       "              n_jobs=0, num_parallel_tree=1, predictor='auto', random_state=0,\n",
       "              reg_alpha=0, reg_lambda=1, ...)"
      ]
     },
     "execution_count": 37,
     "metadata": {},
     "output_type": "execute_result"
    }
   ],
   "source": [
    "xgb_cl = xgb.XGBClassifier()\n",
    "xgb_cl.fit(X_train, y_train)"
   ]
  },
  {
   "cell_type": "code",
   "execution_count": 42,
   "metadata": {},
   "outputs": [
    {
     "name": "stdout",
     "output_type": "stream",
     "text": [
      "Accuracy of Guassian Navies Base classifier on test set: 0.65\n",
      "              precision    recall  f1-score   support\n",
      "\n",
      "           0       0.59      0.51      0.55       816\n",
      "           1       0.69      0.76      0.72      1169\n",
      "\n",
      "    accuracy                           0.65      1985\n",
      "   macro avg       0.64      0.63      0.63      1985\n",
      "weighted avg       0.65      0.65      0.65      1985\n",
      "\n"
     ]
    }
   ],
   "source": [
    "y_pred_xgb = xgb_cl.predict(X_test)\n",
    "print('Accuracy of Guassian Navies Base classifier on test set: {:.2f}'.format(xgb_cl.score(X_test, y_test)))\n",
    "print(classification_report(y_test, y_pred_xgb))"
   ]
  },
  {
   "cell_type": "code",
   "execution_count": 39,
   "metadata": {},
   "outputs": [
    {
     "name": "stdout",
     "output_type": "stream",
     "text": [
      "[[413 403]\n",
      " [284 885]]\n"
     ]
    }
   ],
   "source": [
    "confusion_matrix_xgb = confusion_matrix(y_test, y_pred_xgb)\n",
    "print(confusion_matrix_xgb)"
   ]
  },
  {
   "cell_type": "code",
   "execution_count": 41,
   "metadata": {},
   "outputs": [
    {
     "data": {
      "image/png": "[encoded data removed]",
      "text/plain": [
       "<Figure size 432x288 with 1 Axes>"
      ]
     },
     "metadata": {
      "needs_background": "light"
     },
     "output_type": "display_data"
    }
   ],
   "source": [
    "plt.rc(\"font\", size=14)\n",
    "\n",
    "xGB_roc_auc = roc_auc_score(y_test, xgb_cl.predict(X_test))\n",
    "fpr, tpr, thresholds = roc_curve(y_test, xgb_cl.predict_proba(X_test)[:,1])\n",
    "plt.figure()\n",
    "plt.plot(fpr, tpr, label='XGBoost classiffication (area = %0.2f)' % xGB_roc_auc)\n",
    "plt.plot([0, 1], [0, 1],'r--')\n",
    "plt.xlim([0.0, 1.0])\n",
    "plt.ylim([0.0, 1.05])\n",
    "plt.xlabel('False Positive Rate')\n",
    "plt.ylabel('True Positive Rate')\n",
    "plt.title('Receiver operating characteristic')\n",
    "plt.legend(loc=\"lower right\")\n",
    "plt.savefig('Log_ROC')\n",
    "plt.show()"
   ]
  },
  {
   "cell_type": "code",
   "execution_count": null,
   "metadata": {},
   "outputs": [],
   "source": []
  }
 ],
 "metadata": {
  "kernelspec": {
   "display_name": "Python 3 (ipykernel)",
   "language": "python",
   "name": "python3"
  },
  "language_info": {
   "codemirror_mode": {
    "name": "ipython",
    "version": 3
   },
   "file_extension": ".py",
   "mimetype": "text/x-python",
   "name": "python",
   "nbconvert_exporter": "python",
   "pygments_lexer": "ipython3",
   "version": "3.9.12"
  }
 },
 "nbformat": 4,
 "nbformat_minor": 2
}
